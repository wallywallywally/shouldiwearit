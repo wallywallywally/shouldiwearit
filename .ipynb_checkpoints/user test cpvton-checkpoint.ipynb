{
 "cells": [
  {
   "cell_type": "code",
   "execution_count": null,
   "id": "710e3f73-4129-428d-961c-f21004898e0c",
   "metadata": {},
   "outputs": [],
   "source": [
    "import torch\n",
    "from torchvision import transforms\n",
    "from PIL import Image\n",
    "import cv2\n",
    "import numpy as np"
   ]
  },
  {
   "cell_type": "code",
   "execution_count": null,
   "id": "359a87a3-475b-48de-b397-7ab3fb81903b",
   "metadata": {},
   "outputs": [],
   "source": [
    "PERSON_LOCATION =\n",
    "PERSON_MASK_LOCATION =\n",
    "CLOTH_LOCATION =\n",
    "NEW_CLOTH_LOCATION ="
   ]
  },
  {
   "cell_type": "code",
   "execution_count": null,
   "id": "70467a0e-c64a-4bce-a9cd-314117fffaad",
   "metadata": {},
   "outputs": [],
   "source": [
    "person_image = Image.open(PERSON_LOCATION)\n",
    "person_image.resize((192, 256))\n",
    "input_tensor = transform(person_image).unsqueeze(0)\n",
    "\n",
    "\n",
    "# Load pre-trained model\n",
    "segmentation_model = CIHP_PGN(pretrained=True)\n",
    "segmentation_model.eval()\n",
    "\n",
    "# Get the segmentation map\n",
    "with torch.no_grad():\n",
    "    segmentation_output = segmentation_model(input_tensor)\n",
    "segmentation_map = segmentation_output.squeeze(0).argmax(dim=0).cpu().numpy()\n",
    "\n",
    "# Save the segmentation map as an image\n",
    "segmentation_image = Image.fromarray(segmentation_map.astype('uint8'))\n",
    "segmentation_image.save(PERSON_MASK_LOCATION)\n",
    "\n"
   ]
  },
  {
   "cell_type": "code",
   "execution_count": null,
   "id": "7e558843-39d7-46e3-a643-9bc09452db9b",
   "metadata": {},
   "outputs": [],
   "source": [
    "cloth_image = cv2.imread(CLOTH_LOCATION, cv2.IMREAD_GRAYSCALE)\n",
    "_, cloth_mask = cv2.threshold(cloth_image, 1, 255, cv2.THRESH_BINARY)\n",
    "\n",
    "\n"
   ]
  },
  {
   "cell_type": "code",
   "execution_count": null,
   "id": "57a592fe-740a-4b65-bd8c-7bb7d41c382f",
   "metadata": {},
   "outputs": [],
   "source": [
    "\n",
    "from PIL import Image\n",
    "import cv2\n",
    "import numpy as np\n",
    "\n",
    "# Load pre-trained CP-VTON model\n",
    "model = torch.load('path/to/cp-vton.pth')\n",
    "model.eval()\n",
    "\n",
    "# Define transformations\n",
    "transform = transforms.Compose([\n",
    "    transforms.Resize((256, 192)),\n",
    "    transforms.ToTensor()\n",
    "])\n",
    "\n",
    "# Load and preprocess images\n",
    "person_image = Image.open('path/to/resized_person_image.jpg')\n",
    "cloth_image = Image.open('path/to/resized_cloth_image.jpg')\n",
    "\n",
    "person_tensor = transform(person_image).unsqueeze(0)\n",
    "cloth_tensor = transform(cloth_image).unsqueeze(0)\n",
    "\n",
    "# Load and preprocess segmentation map and cloth mask\n",
    "segmentation_map = Image.open('path/to/image_parse.png')\n",
    "cloth_mask = Image.open('path/to/cloth_mask.png')\n",
    "\n",
    "segmentation_tensor = transform(segmentation_map).unsqueeze(0)\n",
    "cloth_mask_tensor = transform(cloth_mask).unsqueeze(0)\n",
    "\n",
    "# Load pose keypoints\n",
    "pose_keypoints = np.load('path/to/pose_keypoints.npy')\n",
    "\n",
    "# Convert pose keypoints to tensor\n",
    "pose_tensor = torch.tensor(pose_keypoints).unsqueeze(0).float()\n",
    "\n",
    "# Run inference\n",
    "with torch.no_grad():\n",
    "    output = model(person_tensor, cloth_tensor, segmentation_tensor, cloth_mask_tensor, pose_tensor)\n",
    "\n",
    "# Post-process and display the output\n",
    "output_image = transforms.ToPILImage()(output.squeeze(0))\n",
    "output_image.show()"
   ]
  }
 ],
 "metadata": {
  "kernelspec": {
   "display_name": "Python 3 (ipykernel)",
   "language": "python",
   "name": "python3"
  },
  "language_info": {
   "codemirror_mode": {
    "name": "ipython",
    "version": 3
   },
   "file_extension": ".py",
   "mimetype": "text/x-python",
   "name": "python",
   "nbconvert_exporter": "python",
   "pygments_lexer": "ipython3",
   "version": "3.11.9"
  }
 },
 "nbformat": 4,
 "nbformat_minor": 5
}
